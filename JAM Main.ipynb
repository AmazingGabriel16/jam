{
 "cells": [
  {
   "cell_type": "markdown",
   "metadata": {},
   "source": [
    "# JAM\n",
    "Just Apply Me python app\n",
    "\n",
    "What does it do?\n",
    "Helps to edit your cover letter to give you a unique one dependent on the job title and company.\n",
    "\n",
    "Currently only works with seek.com.au\n",
    "\n",
    "Developed by Gabriel Tobing\n",
    "No"
   ]
  },
  {
   "cell_type": "markdown",
   "metadata": {},
   "source": [
    "## Enter job URL here\n",
    "\n",
    "Please enter the url after the equals(=) sign."
   ]
  },
  {
   "cell_type": "code",
   "execution_count": 243,
   "metadata": {},
   "outputs": [],
   "source": [
    "URL = ''"
   ]
  },
  {
   "cell_type": "markdown",
   "metadata": {},
   "source": [
    "## Enter your cover letter here\n",
    "\n",
    "Note:\n",
    "- Enter the entirety of your cover letter inside of the triple inverted comma after the 'cl = '.\n",
    "- Instead of using 'Company Name' or 'Job Title' such as 'Google' and 'Junior Developer', instead use 'company_name' and 'job_title'. This will let the program know what needs to be replaced with what item.\n",
    "- For those on Goolge Collab, you will need to manually, copy and paste the edited result below (sadly other methods break formatting).\n",
    "- For those on Windows, after you run the cell below, your new cover letter will automatically be put into your clipboard, ready for you to CTRL+V.\n",
    "\n",
    "Example:\n",
    "\n",
    "cl = '''Hello to whom it may concern,\n",
    "\n",
    "I am applying for the 'job_title' at 'company_name'. Please accept my cover letter and my resume.\n",
    "\n",
    "Sincerely,\n",
    "Tony 'Iron' Stark'''"
   ]
  },
  {
   "cell_type": "code",
   "execution_count": 244,
   "metadata": {},
   "outputs": [],
   "source": [
    "cl = ''''''"
   ]
  },
  {
   "cell_type": "markdown",
   "metadata": {},
   "source": [
    "#### Code stuff here\n",
    "\n",
    "For developers to look into"
   ]
  },
  {
   "cell_type": "code",
   "execution_count": 245,
   "metadata": {},
   "outputs": [],
   "source": [
    "import requests\n",
    "import re \n",
    "from bs4 import BeautifulSoup\n",
    "import pyperclip\n",
    "import os\n",
    "from IPython.display import HTML"
   ]
  },
  {
   "cell_type": "code",
   "execution_count": 246,
   "metadata": {},
   "outputs": [
    {
     "name": "stdout",
     "output_type": "stream",
     "text": [
      "Website: Seek\n"
     ]
    }
   ],
   "source": [
    "# Create soup object\n",
    "page = requests.get(URL)\n",
    "soup = BeautifulSoup(page.content, 'html.parser')\n",
    "\n",
    "# Website checker\n",
    "website = None\n",
    "if re.search(r\"seek\", URL) != None:\n",
    "    website = 'seek'\n",
    "    print('Website: Seek')\n",
    "elif re.search(r\"indeed\", URL) != None:\n",
    "    website = 'indeed'\n",
    "    print('Wesbite: Indeed')\n",
    "else:\n",
    "    print('The link provided is not from a supported job searching website.')\n",
    "\n"
   ]
  },
  {
   "cell_type": "code",
   "execution_count": 247,
   "metadata": {},
   "outputs": [
    {
     "name": "stdout",
     "output_type": "stream",
     "text": [
      "<class 'str'>\n",
      "Hello to whom it may concern,\n",
      "\n",
      "I am applying for the SOFTWARE DEVELOPER at WA Billboards. Please accept my cover letter and my resume.\n",
      "\n",
      "Sincerely,\n",
      "Tony 'Iron' Stark\n"
     ]
    }
   ],
   "source": [
    "\n",
    "cl = re.sub(r\"\\'job_title\\'\",job_title, cl)\n",
    "cl = re.sub(r\"\\'company_name\\'\",company_name, cl)\n",
    "print(type(cl))\n",
    "print(cl)\n",
    "    \n",
    "# Seek.com.au website\n",
    "# Obtain job name and company/advertiser name\n",
    "# Job title\n",
    "title_search = soup.find(attrs={'data-automation' : 'job-detail-title'})\n",
    "job_title = title_search.text.strip()\n",
    "\n",
    "# Company name\n",
    "company_search = soup.find(attrs={'data-automation' : 'advertiser-name'})\n",
    "company_name = company_search.text.strip()"
   ]
  },
  {
   "cell_type": "code",
   "execution_count": 248,
   "metadata": {},
   "outputs": [
    {
     "name": "stdout",
     "output_type": "stream",
     "text": [
      "NOT in Colab\n",
      "New cover letter successfully copied to your clipboard\n"
     ]
    }
   ],
   "source": [
    "is_collab = False\n",
    "# Goolge collab check\n",
    "if os.getenv(\"COLAB_RELEASE_TAG\"):\n",
    "    print(\"Running in Colab\")\n",
    "    is_collab = True\n",
    "else:\n",
    "    print(\"NOT in Colab\")\n",
    "    # Copies to clipboard\n",
    "    # For non-collab users\n",
    "    pyperclip.copy(cl)\n",
    "    print('New cover letter successfully copied to your clipboard')"
   ]
  },
  {
   "cell_type": "markdown",
   "metadata": {},
   "source": [
    "#### TO DO: Make for multiple website support"
   ]
  },
  {
   "cell_type": "code",
   "execution_count": 249,
   "metadata": {},
   "outputs": [
    {
     "data": {
      "text/plain": [
       "\" TO DO: Make for multiple website support\\n\\n\\ntitle_search = None\\ncompany_search = None\\nif website == 'seek':\\n    # Seek.com.au website\\n    # Obtain job name and company/advertiser name\\n    # Job title\\n    title_search = soup.find(attrs={'data-automation' : 'job-detail-title'})\\n    job_title = title_search.text.strip()\\n    print(job_title)\\n\\n    # Company name\\n    company_search = soup.find(attrs={'data-automation' : 'advertiser-name'})\\n    company_name = company_search.text.strip()\\n    print(company_name)\\nelif website == 'indeed':\\n    # Indeed.com website\\n    # Obtain job name and company/advertiser name\\n    # Job title\\n    title_search = soup.find(attrs={'data-testid' : 'jobsearch-JobInfoHeader-title'})\\n    #job_title = title_search.text.strip()\\n    #print(job_title)\\n    print(title_search)\\n\\n    # Company name\\n    company_search = soup.find(attrs={'data-testid' : 'inlineHeader-companyName'})\\n    #company_name = company_search.text.strip()\\n    #print(company_name)\\nelse:\\n    print('Website not supported, nothing was changed.')\\n    \\n\\nprint(title_search)\\n\""
      ]
     },
     "execution_count": 249,
     "metadata": {},
     "output_type": "execute_result"
    }
   ],
   "source": [
    "''' TO DO: Make for multiple website support\n",
    "\n",
    "\n",
    "title_search = None\n",
    "company_search = None\n",
    "if website == 'seek':\n",
    "    # Seek.com.au website\n",
    "    # Obtain job name and company/advertiser name\n",
    "    # Job title\n",
    "    title_search = soup.find(attrs={'data-automation' : 'job-detail-title'})\n",
    "    job_title = title_search.text.strip()\n",
    "    print(job_title)\n",
    "\n",
    "    # Company name\n",
    "    company_search = soup.find(attrs={'data-automation' : 'advertiser-name'})\n",
    "    company_name = company_search.text.strip()\n",
    "    print(company_name)\n",
    "elif website == 'indeed':\n",
    "    # Indeed.com website\n",
    "    # Obtain job name and company/advertiser name\n",
    "    # Job title\n",
    "    title_search = soup.find(attrs={'data-testid' : 'jobsearch-JobInfoHeader-title'})\n",
    "    #job_title = title_search.text.strip()\n",
    "    #print(job_title)\n",
    "    print(title_search)\n",
    "\n",
    "    # Company name\n",
    "    company_search = soup.find(attrs={'data-testid' : 'inlineHeader-companyName'})\n",
    "    #company_name = company_search.text.strip()\n",
    "    #print(company_name)\n",
    "else:\n",
    "    print('Website not supported, nothing was changed.')\n",
    "    \n",
    "\n",
    "print(title_search)\n",
    "'''"
   ]
  },
  {
   "cell_type": "markdown",
   "metadata": {},
   "source": [
    "## For Google Collab users\n",
    "\n",
    "Please copy the edited cover letter below"
   ]
  },
  {
   "cell_type": "code",
   "execution_count": 250,
   "metadata": {},
   "outputs": [
    {
     "name": "stdout",
     "output_type": "stream",
     "text": [
      "Hello to whom it may concern,\n",
      "\n",
      "I am applying for the SOFTWARE DEVELOPER at WA Billboards. Please accept my cover letter and my resume.\n",
      "\n",
      "Sincerely,\n",
      "Tony 'Iron' Stark\n"
     ]
    }
   ],
   "source": [
    "print(cl)"
   ]
  }
 ],
 "metadata": {
  "kernelspec": {
   "display_name": "base",
   "language": "python",
   "name": "python3"
  },
  "language_info": {
   "codemirror_mode": {
    "name": "ipython",
    "version": 3
   },
   "file_extension": ".py",
   "mimetype": "text/x-python",
   "name": "python",
   "nbconvert_exporter": "python",
   "pygments_lexer": "ipython3",
   "version": "3.12.4"
  }
 },
 "nbformat": 4,
 "nbformat_minor": 2
}
